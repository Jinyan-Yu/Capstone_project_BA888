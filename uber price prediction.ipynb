{
 "cells": [
  {
   "cell_type": "code",
   "execution_count": null,
   "metadata": {},
   "outputs": [],
   "source": [
    "import pandas as pd\n",
    "import seaborn as sns\n",
    "import matplotlib.pyplot as plt\n",
    "from sklearn.neural_network import MLPClassifier\n",
    "from sklearn.metrics import confusion_matrix, classification_report\n",
    "from sklearn.preprocessing import StandardScaler, LabelEncoder\n",
    "from sklearn.model_selection import train_test_split"
   ]
  },
  {
   "cell_type": "code",
   "execution_count": null,
   "metadata": {},
   "outputs": [],
   "source": [
    "total_data = pd.read_csv('uber_resource_with_weather.csv')\n",
    "\n",
    "total_data = total_data[total_data['distance'] > 0.1]\n"
   ]
  },
  {
   "cell_type": "code",
   "execution_count": null,
   "metadata": {},
   "outputs": [],
   "source": [
    "total_data.isnull().sum()"
   ]
  },
  {
   "cell_type": "code",
   "execution_count": null,
   "metadata": {},
   "outputs": [],
   "source": [
    "label_weather = LabelEncoder()\n",
    "total_data['weather'] = label_weather.fit_transform(total_data['short_summary'])\n",
    "list(label_weather.classes_)"
   ]
  },
  {
   "cell_type": "code",
   "execution_count": null,
   "metadata": {},
   "outputs": [],
   "source": [
    "label_location = LabelEncoder()\n",
    "total_data['from'] = label_location.fit_transform(total_data['source'])\n",
    "total_data['to'] = label_location.fit_transform(total_data['destination'])\n",
    "list(label_location.classes_)"
   ]
  },
  {
   "cell_type": "code",
   "execution_count": null,
   "metadata": {},
   "outputs": [],
   "source": [
    "label_car = LabelEncoder()\n",
    "total_data['car'] = label_car.fit_transform(total_data['name'])\n",
    "list(label_car.classes_)\n",
    "\n"
   ]
  },
  {
   "cell_type": "code",
   "execution_count": null,
   "metadata": {},
   "outputs": [],
   "source": [
    "new_data = total_data[['weather', 'from', 'to', 'hour', 'day', 'month', 'car', 'price', 'distance']]\n",
    "\n",
    "X = new_data.drop('price', axis=1)\n",
    "y = new_data['price']\n",
    "y = y.astype('int8')\n"
   ]
  },
  {
   "cell_type": "code",
   "execution_count": null,
   "metadata": {},
   "outputs": [],
   "source": [
    "data = total_data.copy()\n",
    "data['travel'] = data['source'] + '_'  + data['destination']\n",
    "label_travel = LabelEncoder()\n",
    "data['trip'] = label_travel.fit_transform(data['travel'])\n",
    "data['unit'] = data['price'] / data['distance']\n",
    "visual_data = data[['trip', 'hour', 'car', 'unit']]\n",
    "list(label_travel.classes_)"
   ]
  },
  {
   "cell_type": "code",
   "execution_count": null,
   "metadata": {},
   "outputs": [],
   "source": [
    "visual_data = visual_data.sort_values(by=['trip','hour'])\n",
    "car_colors =  ['black', 'purple', 'red', 'orange', 'blue', 'green']\n",
    "for trip in visual_data['trip'].unique():\n",
    "    current_data = visual_data[visual_data['trip'] == trip]\n",
    "    trip_name = label_travel.inverse_transform([trip])[0]\n",
    "    graph_name = trip_name + \".png\"\n",
    "    plt.figure(figsize=(18, 18))\n",
    "    plt.ylabel('unit price')\n",
    "    plt.xlabel(trip_name)\n",
    "    for line in current_data.iterrows():\n",
    "        plt.plot(line[1]['hour'], line[1]['unit'], marker='x', color= car_colors[int(line[1]['car'])] )\n",
    "    plt.savefig(graph_name)\n",
    "    plt.clf()"
   ]
  },
  {
   "cell_type": "code",
   "execution_count": null,
   "metadata": {},
   "outputs": [],
   "source": [
    "X_train, X_test, y_train, y_test = train_test_split(X, y, test_size = 0.0005, random_state =42)"
   ]
  },
  {
   "cell_type": "code",
   "execution_count": null,
   "metadata": {},
   "outputs": [],
   "source": [
    "sc =StandardScaler()\n",
    "X_train = sc.fit_transform(X_train)\n",
    "X_test = sc.transform(X_test)"
   ]
  },
  {
   "cell_type": "code",
   "execution_count": null,
   "metadata": {
    "scrolled": true
   },
   "outputs": [],
   "source": [
    "mlpc = MLPClassifier(hidden_layer_sizes=(9,9,9),max_iter=150)\n",
    "mlpc.fit(X_train, y_train)\n"
   ]
  },
  {
   "cell_type": "code",
   "execution_count": null,
   "metadata": {},
   "outputs": [],
   "source": [
    "pred_mlpc = mlpc.predict(X_test)"
   ]
  },
  {
   "cell_type": "code",
   "execution_count": null,
   "metadata": {},
   "outputs": [],
   "source": [
    "y_test.to_numpy()"
   ]
  },
  {
   "cell_type": "code",
   "execution_count": null,
   "metadata": {},
   "outputs": [],
   "source": [
    "plt.figure(figsize=(18, 6))\n",
    "plt.plot(y_test.to_numpy(), label=\"real\",color='red')\n",
    "plt.plot(pred_mlpc, label='predict', color='blue')\n",
    "plt.ylabel('price')\n",
    "plt.text(0,40,\"Reality\", color = 'red',)\n",
    "plt.text(0,35,\"Predict\", color = 'Blue')\n",
    "plt.savefig('price_est.png')\n",
    "\n",
    "plt.show()\n"
   ]
  },
  {
   "cell_type": "code",
   "execution_count": null,
   "metadata": {},
   "outputs": [],
   "source": []
  },
  {
   "cell_type": "code",
   "execution_count": null,
   "metadata": {},
   "outputs": [],
   "source": []
  }
 ],
 "metadata": {
  "kernelspec": {
   "display_name": "Python 3",
   "language": "python",
   "name": "python3"
  },
  "language_info": {
   "codemirror_mode": {
    "name": "ipython",
    "version": 3
   },
   "file_extension": ".py",
   "mimetype": "text/x-python",
   "name": "python",
   "nbconvert_exporter": "python",
   "pygments_lexer": "ipython3",
   "version": "3.7.3"
  }
 },
 "nbformat": 4,
 "nbformat_minor": 4
}
